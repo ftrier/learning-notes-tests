{
 "cells": [
  {
   "cell_type": "markdown",
   "id": "8e939569",
   "metadata": {},
   "source": [
    "## Linux\n",
    "\n",
    "This notebook serves as starting point for learning linux and the bash terminal. I highly recommend, that you run it interactively via the mybinder.org link in the top. This will allow you to execute the commands yourself. \n",
    "\n",
    "Usually developers, system administrators, devop engineers, etc. interact with the the linux operating system via a textual interface, called the shell. The most common type of shell is called `bash`. For now, the differences between these is not so important, but during troubleshooting it might help to know which shell you are using.\n",
    "\n",
    "Linux comes with lots of preinstalled programs which make working with the shell very easy. We will look at some of them and how to use them.\n",
    "\n",
    "This notebook is for learning purpose only. You will never interact with the shell using such a notebook. The `%%bash` in the lines is only for the notebook. You can safely ignore it."
   ]
  },
  {
   "cell_type": "markdown",
   "id": "3b732704",
   "metadata": {},
   "source": [
    "### File System\n",
    "\n",
    "Linux is a directory/file-based operating system.\n",
    "In Linux, everything is treated as a file, including hardware devices, processes, and system configurations. The file system is organized in a hierarchical directory structure, with the root directory `/` at the top. All files and directories are accessed relative to this root directory.\n",
    "\n",
    "The home directory is a personal directory assigned to each user on the system. It serves as the default working directory when a user logs in and is where the user's personal files, configurations, and directories are stored. The `~` is a shorthand for the home directory. It simplifies navigation.\n",
    "\n",
    "Typically, when you open up a terminal, your session will start in the `~` folder. This is not always the case, as for the notebook here for example. The notebook and the shell open up in the folder from where they are launched. Let us look at that first."
   ]
  },
  {
   "cell_type": "code",
   "execution_count": null,
   "id": "0fc58eb3",
   "metadata": {},
   "outputs": [
    {
     "name": "stdout",
     "output_type": "stream",
     "text": [
      "/Users/lefix/Documents/ftrier/learning-notes-tests/learning-notes\n",
      "_config.yml\n",
      "_toc.yml\n",
      "bash.md\n",
      "\u001b[1m\u001b[36mimages\u001b[m\u001b[m\n",
      "intro.md\n",
      "linux.ipynb\n"
     ]
    }
   ],
   "source": [
    "!pwd     # print the current working directory\n",
    "!ls      # list the contents of the current working directory"
   ]
  },
  {
   "cell_type": "markdown",
   "id": "f4987995",
   "metadata": {},
   "source": [
    "Next we want to see how we can navigate the filesystem. Let us start with the root and see what lies beneath it."
   ]
  },
  {
   "cell_type": "code",
   "execution_count": 25,
   "id": "355a887d",
   "metadata": {},
   "outputs": [
    {
     "name": "stdout",
     "output_type": "stream",
     "text": [
      "/\n",
      "\u001b[1m\u001b[36mApplications\u001b[m\u001b[m\n",
      "\u001b[1m\u001b[36mLibrary\u001b[m\u001b[m\n",
      "\u001b[1m\u001b[36mSystem\u001b[m\u001b[m\n",
      "\u001b[1m\u001b[36mUsers\u001b[m\u001b[m\n",
      "\u001b[1m\u001b[36mVolumes\u001b[m\u001b[m\n",
      "\u001b[1m\u001b[36mbin\u001b[m\u001b[m\n",
      "\u001b[1m\u001b[36mcores\u001b[m\u001b[m\n",
      "\u001b[1m\u001b[36mdev\u001b[m\u001b[m\n",
      "\u001b[35metc\u001b[m\u001b[m\n",
      "\u001b[35mhome\u001b[m\u001b[m\n",
      "\u001b[1m\u001b[36mopt\u001b[m\u001b[m\n",
      "\u001b[1m\u001b[36mprivate\u001b[m\u001b[m\n",
      "\u001b[1m\u001b[36msbin\u001b[m\u001b[m\n",
      "\u001b[35mtmp\u001b[m\u001b[m\n",
      "\u001b[1m\u001b[36musr\u001b[m\u001b[m\n",
      "\u001b[35mvar\u001b[m\u001b[m\n"
     ]
    }
   ],
   "source": [
    "%%script bash\n",
    "cd /    # change to the root directory\n",
    "pwd     # print the current working directory\n",
    "ls      # list the contents of the root directory"
   ]
  },
  {
   "cell_type": "markdown",
   "id": "74a023cc",
   "metadata": {},
   "source": [
    "While the root directory is the starting point, you will seldomly operate inside it directly. You will however use it for navigation. The Github build pipeline runs this notebook inside an Ubuntu linux, such the output here will reflect a typical ubuntu installation. Ubuntu follows the [Filesystem Hierarchy Standard](https://en.wikipedia.org/wiki/Filesystem_Hierarchy_Standard). It is not necessary to remember them all, but it is good to have an overview of the most important directories.\n",
    "\n",
    "* `/dev`: Contains device files that represent hardware devices, such as sda (hard drives), tty (terminals), and null.\n",
    "etc\n",
    "* `/tmp`: A temporary directory for storing files that are deleted after a reboot or after a certain period.\n",
    "* `/var`: Contains variable data, such as logs (log), mail (mail), and temporary files for running services.\n",
    "* `/home`: Contains the home directories of users. For example, /home/alice is the home directory for the user alice.\n",
    "* `/usr/bin`: Non-essential user binaries.\n",
    "* `/usr/lib`: Libraries for user applications.\n",
    "* `/mnt`: A temporary mount point for attaching external storage devices like USB drives or network shares.\n"
   ]
  },
  {
   "cell_type": "code",
   "execution_count": 26,
   "id": "63b456c8",
   "metadata": {},
   "outputs": [
    {
     "name": "stdout",
     "output_type": "stream",
     "text": [
      "lefix\n",
      "/Users/lefix\n"
     ]
    }
   ],
   "source": [
    "%%bash\n",
    "whoami  # shows my username\n",
    "cd ~    # change to my personal directory\n",
    "pwd"
   ]
  },
  {
   "cell_type": "markdown",
   "id": "e07e0a60",
   "metadata": {},
   "source": [
    "As you can see, our home directory lies beneath `/home/`. This is expected."
   ]
  },
  {
   "cell_type": "markdown",
   "id": "0d56c1c8",
   "metadata": {},
   "source": [
    "### Manipulating files\n",
    "\n"
   ]
  },
  {
   "cell_type": "markdown",
   "id": "828d7695",
   "metadata": {},
   "source": [
    "As said before, everything is file based in linux. A common task is to configuration files or read logs etc."
   ]
  },
  {
   "cell_type": "code",
   "execution_count": 27,
   "id": "f200e735",
   "metadata": {},
   "outputs": [
    {
     "name": "stdout",
     "output_type": "stream",
     "text": [
      "Hello World!\n"
     ]
    }
   ],
   "source": [
    "%%bash\n",
    "cd ~\n",
    "touch mytext.txt                # create a new file called mytext.txt in the root directory\n",
    "echo -n \"Hello\" > mytext.txt    # write \"Hello\" into the file without a trailing newline\n",
    "echo \" World!\" >> mytext.txt    # append \"World!\" to the file\n",
    "cat mytext.txt                  # display the contents of the file\n"
   ]
  },
  {
   "cell_type": "markdown",
   "id": "fa869d8d",
   "metadata": {},
   "source": [
    "We have seen a lot. `touch` simply creates a a file. We give it the txt suffix to highlight that it is a plain text file. Although the suffix does not mean a lot. It is just an indication. Next, we used the echo command to output text. A plain `echo \"Hello\"` would just print Hello to the standard outoutput `stdout`, which is typically the terminal. The `>` operator redirects the output to a file instead of displaying it to the terminal. The `>>` appends to a file instead of overwriting. If a program prints a lot of debug information for example to stdout, you can use `>`/`>>` operator to aggregate the logs and write them into a file."
   ]
  },
  {
   "cell_type": "code",
   "execution_count": 2,
   "id": "71df8508",
   "metadata": {},
   "outputs": [
    {
     "name": "stdout",
     "output_type": "stream",
     "text": [
      "CAT(1)                      General Commands Manual                     CAT(1)\n",
      "\n",
      "NAME\n",
      "     cat – concatenate and print files\n",
      "\n",
      "SYNOPSIS\n",
      "     cat [-belnstuv] [file ...]\n",
      "\n",
      "DESCRIPTION\n",
      "     The cat utility reads files sequentially, writing them to the standard\n",
      "     output.  The file operands are processed in command-line order.  If file\n",
      "     is a single dash (‘-’) or absent, cat reads from the standard input.  If\n",
      "     file is a UNIX domain socket, cat connects to it and then reads it until\n",
      "     EOF.  This complements the UNIX domain binding capability available in\n",
      "     inetd(8).\n",
      "\n",
      "     The options are as follows:\n",
      "\n",
      "     -b      Number the non-blank output lines, starting at 1.\n",
      "\n",
      "     -e      Display non-printing characters (see the -v option), and display\n",
      "             a dollar sign (‘$’) at the end of each line.\n",
      "\n",
      "     -l      Set an exclusive advisory lock on the standard output file\n",
      "             descriptor.  This lock is set using fcntl(2) with the F_SETLKW\n",
      "             command.  If the output file is already locked, cat will block\n",
      "             until the lock is acquired.\n",
      "\n",
      "     -n      Number the output lines, starting at 1.\n",
      "\n",
      "     -s      Squeeze multiple adjacent empty lines, causing the output to be\n",
      "             single spaced.\n",
      "\n",
      "     -t      Display non-printing characters (see the -v option), and display\n",
      "             tab characters as ‘^I’.\n",
      "\n",
      "     -u      Disable output buffering.\n",
      "\n",
      "     -v      Display non-printing characters so they are visible.  Control\n",
      "             characters print as ‘^X’ for control-X; the delete character\n",
      "             (octal 0177) prints as ‘^?’.  Non-ASCII characters (with the high\n",
      "             bit set) are printed as ‘M-’ (for meta) followed by the character\n",
      "             for the low 7 bits.\n",
      "\n",
      "EXIT STATUS\n",
      "     The cat utility exits 0 on success, and >0 if an error occurs.\n",
      "\n",
      "EXAMPLES\n",
      "     The command:\n",
      "\n",
      "           cat file1\n",
      "\n",
      "     will print the contents of file1 to the standard output.\n",
      "\n",
      "     The command:\n",
      "\n",
      "           cat file1 file2 > file3\n",
      "\n",
      "     will sequentially print the contents of file1 and file2 to the file\n",
      "     file3, truncating file3 if it already exists.  See the manual page for\n",
      "     your shell (e.g., sh(1)) for more information on redirection.\n",
      "\n",
      "     The command:\n",
      "\n",
      "           cat file1 - file2 - file3\n",
      "\n",
      "     will print the contents of file1, print data it receives from the\n",
      "     standard input until it receives an EOF (‘^D’) character, print the\n",
      "     contents of file2, read and output contents of the standard input again,\n",
      "     then finally output the contents of file3.  Note that if the standard\n",
      "     input refers to a file, the second dash on the command-line would have no\n",
      "     effect, since the entire contents of the file would have already been\n",
      "     read and printed by cat when it encountered the first ‘-’ operand.\n",
      "\n",
      "SEE ALSO\n",
      "     head(1), more(1), pr(1), sh(1), tail(1), vis(1), zcat(1), fcntl(2),\n",
      "     setbuf(3)\n",
      "\n",
      "     Rob Pike, “UNIX Style, or cat -v Considered Harmful”, USENIX Summer\n",
      "     Conference Proceedings, 1983.\n",
      "\n",
      "STANDARDS\n",
      "     The cat utility is compliant with the IEEE Std 1003.2-1992 (“POSIX.2”)\n",
      "     specification.\n",
      "\n",
      "     The flags [-belnstv] are extensions to the specification.\n",
      "\n",
      "HISTORY\n",
      "     A cat utility appeared in Version 1 AT&T UNIX.  Dennis Ritchie designed\n",
      "     and wrote the first man page.  It appears to have been for cat.\n",
      "\n",
      "BUGS\n",
      "     Because of the shell language mechanism used to perform output\n",
      "     redirection, the command “cat file1 file2 > file1” will cause the\n",
      "     original data in file1 to be destroyed!\n",
      "\n",
      "     The cat utility does not recognize multibyte characters when the -t or -v\n",
      "     option is in effect.\n",
      "\n",
      "macOS 15.4                     January 29, 2013                     macOS 15.4\n"
     ]
    }
   ],
   "source": [
    "!man cat"
   ]
  },
  {
   "cell_type": "code",
   "execution_count": null,
   "id": "7ea3a299",
   "metadata": {},
   "outputs": [],
   "source": []
  }
 ],
 "metadata": {
  "kernelspec": {
   "display_name": "notes",
   "language": "python",
   "name": "python3"
  },
  "language_info": {
   "codemirror_mode": {
    "name": "ipython",
    "version": 3
   },
   "file_extension": ".py",
   "mimetype": "text/x-python",
   "name": "python",
   "nbconvert_exporter": "python",
   "pygments_lexer": "ipython3",
   "version": "3.10.14"
  }
 },
 "nbformat": 4,
 "nbformat_minor": 5
}
